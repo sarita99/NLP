{
 "cells": [
  {
   "cell_type": "code",
   "execution_count": 1,
   "id": "5ca6615a",
   "metadata": {},
   "outputs": [],
   "source": [
    "import nltk\n",
    "import string\n",
    "from nltk import word_tokenize\n",
    "from nltk import wordpunct_tokenize\n",
    "from nltk.corpus import stopwords\n",
    "from string import punctuation\n",
    "from nltk.stem.snowball import SnowballStemmer\n",
    "from nltk.stem.wordnet import WordNetLemmatizer\n",
    "from nltk import pos_tag\n",
    "#read the file \n",
    "#Note: use the correct path of the file depending on your environment\n",
    "file = open(\"data/nlp_wikipedia_sample.txt\",'r') \n",
    "text = ''\n",
    "for i in file.readlines():\n",
    "    text+=i\n",
    "#print(text)"
   ]
  },
  {
   "cell_type": "code",
   "execution_count": 2,
   "id": "6c96130c",
   "metadata": {},
   "outputs": [],
   "source": [
    "#remove trailing spaces\n",
    "trimmed_text = text.strip()\n",
    "# print(trimmed_text)"
   ]
  },
  {
   "cell_type": "code",
   "execution_count": 3,
   "id": "e21a3c90",
   "metadata": {},
   "outputs": [],
   "source": [
    "converted_text = trimmed_text.lower()\n",
    "# print(converted_text)"
   ]
  },
  {
   "cell_type": "code",
   "execution_count": 4,
   "id": "ff95748e",
   "metadata": {},
   "outputs": [
    {
     "name": "stdout",
     "output_type": "stream",
     "text": [
      "['the', 'history', 'of', 'natural', 'language', 'processing', 'generally', 'started', 'in', 'the', '1950s', ',', 'although', 'work', 'can', 'be', 'found', 'from', 'earlier', 'periods', '.', 'in', '1950', ',', 'alan', 'turing', 'published', 'an', 'article', 'titled', '``', 'intelligence', \"''\", 'which', 'proposed', 'what', 'is', 'now', 'called', 'the', 'turing', 'test', 'as', 'a', 'criterion', 'of', 'intelligence', '.', 'the', 'georgetown', 'experiment', 'in', '1954', 'involved', 'fully', 'automatic', 'translation', 'of', 'more', 'than', 'sixty', 'russian', 'sentences', 'into', 'english', '.', 'the', 'authors', 'claimed', 'that', 'within', 'three', 'or', 'five', 'years', ',', 'machine', 'translation', 'would', 'be', 'a', 'solved', 'problem', '.', '[', '2', ']', 'however', ',', 'real', 'progress', 'was', 'much', 'slower', ',', 'and', 'after', 'the', 'alpac', 'report', 'in', '1966', ',', 'which', 'found', 'that', 'ten-year-long', 'research', 'had', 'failed', 'to', 'fulfill', 'the', 'expectations', ',', 'funding', 'for', 'machine', 'translation', 'was', 'dramatically', 'reduced', '.', 'little', 'further', 'research', 'in', 'machine', 'translation', 'was', 'conducted', 'until', 'the', 'late', '1980s', ',', 'when', 'the', 'first', 'statistical', 'machine', 'translation', 'systems', 'were', 'developed', '.', 'some', 'notably', 'successful', 'natural', 'language', 'processing', 'systems', 'developed', 'in', 'the', '1960s', 'were', 'shrdlu', ',', 'a', 'natural', 'language', 'system', 'working', 'in', 'restricted', '``', 'blocks', 'worlds', \"''\", 'with', 'restricted', 'vocabularies', ',', 'and', 'eliza', ',', 'a', 'simulation', 'of', 'a', 'rogerian', 'psychotherapist', ',', 'written', 'by', 'joseph', 'weizenbaum', 'between', '1964', 'and', '1966.', 'using', 'almost', 'no', 'information', 'about', 'human', 'thought', 'or', 'emotion', ',', 'eliza', 'sometimes', 'provided', 'a', 'startlingly', 'human-like', 'interaction', '.', 'when', 'the', '``', 'patient', \"''\", 'exceeded', 'the', 'very', 'small', 'knowledge', 'base', ',', 'eliza', 'might', 'provide', 'a', 'generic', 'response', ',', 'for', 'example', ',', 'responding', 'to', '``', 'my', 'head', 'hurts', \"''\", 'with', '``', 'why', 'do', 'you', 'say', 'your', 'head', 'hurts', '?', \"''\", '.', 'during', 'the', '1970s', ',', 'many', 'programmers', 'began', 'to', 'write', '``', 'conceptual', 'ontologies', \"''\", ',', 'which', 'structured', 'real-world', 'information', 'into', 'computer-understandable', 'data', '.', 'examples', 'are', 'margie', '(', 'schank', ',', '1975', ')', ',', 'sam', '(', 'cullingford', ',', '1978', ')', ',', 'pam', '(', 'wilensky', ',', '1978', ')', ',', 'talespin', '(', 'meehan', ',', '1976', ')', ',', 'qualm', '(', 'lehnert', ',', '1977', ')', ',', 'politics', '(', 'carbonell', ',', '1979', ')', ',', 'and', 'plot', 'units', '(', 'lehnert', '1981', ')', '.', 'during', 'this', 'time', ',', 'many', 'chatterbots', 'were', 'written', 'including', 'parry', ',', 'racter', ',', 'and', 'jabberwacky', '.', 'up', 'to', 'the', '1980s', ',', 'most', 'natural', 'language', 'processing', 'systems', 'were', 'based', 'on', 'complex', 'sets', 'of', 'hand-written', 'rules', '.', 'starting', 'in', 'the', 'late', '1980s', ',', 'however', ',', 'there', 'was', 'a', 'revolution', 'in', 'natural', 'language', 'processing', 'with', 'the', 'introduction', 'of', 'machine', 'learning', 'algorithms', 'for', 'language', 'processing', '.', 'this', 'was', 'due', 'to', 'both', 'the', 'steady', 'increase', 'in', 'computational', 'power', '(', 'see', 'moore', \"'s\", 'law', ')', 'and', 'the', 'gradual', 'lessening', 'of', 'the', 'dominance', 'of', 'chomskyan', 'theories', 'of', 'linguistics', '(', 'e.g', '.', 'transformational', 'grammar', ')', ',', 'whose', 'theoretical', 'underpinnings', 'discouraged', 'the', 'sort', 'of', 'corpus', 'linguistics', 'that', 'underlies', 'the', 'machine-learning', 'approach', 'to', 'language', 'processing', '.', '[', '3', ']', 'some', 'of', 'the', 'earliest-used', 'machine', 'learning', 'algorithms', ',', 'such', 'as', 'decision', 'trees', ',', 'produced', 'systems', 'of', 'hard', 'if-then', 'rules', 'similar', 'to', 'existing', 'hand-written', 'rules', '.', 'however', ',', 'part-of-speech', 'tagging', 'introduced', 'the', 'use', 'of', 'hidden', 'markov', 'models', 'to', 'natural', 'language', 'processing', ',', 'and', 'increasingly', ',', 'research', 'has', 'focused', 'on', 'statistical', 'models', ',', 'which', 'make', 'soft', ',', 'probabilistic', 'decisions', 'based', 'on', 'attaching', 'real-valued', 'weights', 'to', 'the', 'features', 'making', 'up', 'the', 'input', 'data', '.', 'the', 'cache', 'language', 'models', 'upon', 'which', 'many', 'speech', 'recognition', 'systems', 'now', 'rely', 'are', 'examples', 'of', 'such', 'statistical', 'models', '.', 'such', 'models', 'are', 'generally', 'more', 'robust', 'when', 'given', 'unfamiliar', 'input', ',', 'especially', 'input', 'that', 'contains', 'errors', '(', 'as', 'is', 'very', 'common', 'for', 'real-world', 'data', ')', ',', 'and', 'produce', 'more', 'reliable', 'results', 'when', 'integrated', 'into', 'a', 'larger', 'system', 'comprising', 'multiple', 'subtasks', '.']\n"
     ]
    }
   ],
   "source": [
    "#nltk.download('punkt')\n",
    "#Tokenization using word tokenizer\n",
    "tokenized_list = word_tokenize(converted_text)\n",
    "print(tokenized_list)"
   ]
  },
  {
   "cell_type": "code",
   "execution_count": 5,
   "id": "a0caa91f",
   "metadata": {},
   "outputs": [
    {
     "name": "stdout",
     "output_type": "stream",
     "text": [
      "['the', 'history', 'of', 'natural', 'language', 'processing', 'generally', 'started', 'in', 'the', '1950s', ',', 'although', 'work', 'can', 'be', 'found', 'from', 'earlier', 'periods', '.', 'in', '1950', ',', 'alan', 'turing', 'published', 'an', 'article', 'titled', '\"', 'intelligence', '\"', 'which', 'proposed', 'what', 'is', 'now', 'called', 'the', 'turing', 'test', 'as', 'a', 'criterion', 'of', 'intelligence', '.', 'the', 'georgetown', 'experiment', 'in', '1954', 'involved', 'fully', 'automatic', 'translation', 'of', 'more', 'than', 'sixty', 'russian', 'sentences', 'into', 'english', '.', 'the', 'authors', 'claimed', 'that', 'within', 'three', 'or', 'five', 'years', ',', 'machine', 'translation', 'would', 'be', 'a', 'solved', 'problem', '.[', '2', ']', 'however', ',', 'real', 'progress', 'was', 'much', 'slower', ',', 'and', 'after', 'the', 'alpac', 'report', 'in', '1966', ',', 'which', 'found', 'that', 'ten', '-', 'year', '-', 'long', 'research', 'had', 'failed', 'to', 'fulfill', 'the', 'expectations', ',', 'funding', 'for', 'machine', 'translation', 'was', 'dramatically', 'reduced', '.', 'little', 'further', 'research', 'in', 'machine', 'translation', 'was', 'conducted', 'until', 'the', 'late', '1980s', ',', 'when', 'the', 'first', 'statistical', 'machine', 'translation', 'systems', 'were', 'developed', '.', 'some', 'notably', 'successful', 'natural', 'language', 'processing', 'systems', 'developed', 'in', 'the', '1960s', 'were', 'shrdlu', ',', 'a', 'natural', 'language', 'system', 'working', 'in', 'restricted', '\"', 'blocks', 'worlds', '\"', 'with', 'restricted', 'vocabularies', ',', 'and', 'eliza', ',', 'a', 'simulation', 'of', 'a', 'rogerian', 'psychotherapist', ',', 'written', 'by', 'joseph', 'weizenbaum', 'between', '1964', 'and', '1966', '.', 'using', 'almost', 'no', 'information', 'about', 'human', 'thought', 'or', 'emotion', ',', 'eliza', 'sometimes', 'provided', 'a', 'startlingly', 'human', '-', 'like', 'interaction', '.', 'when', 'the', '\"', 'patient', '\"', 'exceeded', 'the', 'very', 'small', 'knowledge', 'base', ',', 'eliza', 'might', 'provide', 'a', 'generic', 'response', ',', 'for', 'example', ',', 'responding', 'to', '\"', 'my', 'head', 'hurts', '\"', 'with', '\"', 'why', 'do', 'you', 'say', 'your', 'head', 'hurts', '?\".', 'during', 'the', '1970s', ',', 'many', 'programmers', 'began', 'to', 'write', '\"', 'conceptual', 'ontologies', '\",', 'which', 'structured', 'real', '-', 'world', 'information', 'into', 'computer', '-', 'understandable', 'data', '.', 'examples', 'are', 'margie', '(', 'schank', ',', '1975', '),', 'sam', '(', 'cullingford', ',', '1978', '),', 'pam', '(', 'wilensky', ',', '1978', '),', 'talespin', '(', 'meehan', ',', '1976', '),', 'qualm', '(', 'lehnert', ',', '1977', '),', 'politics', '(', 'carbonell', ',', '1979', '),', 'and', 'plot', 'units', '(', 'lehnert', '1981', ').', 'during', 'this', 'time', ',', 'many', 'chatterbots', 'were', 'written', 'including', 'parry', ',', 'racter', ',', 'and', 'jabberwacky', '.', 'up', 'to', 'the', '1980s', ',', 'most', 'natural', 'language', 'processing', 'systems', 'were', 'based', 'on', 'complex', 'sets', 'of', 'hand', '-', 'written', 'rules', '.', 'starting', 'in', 'the', 'late', '1980s', ',', 'however', ',', 'there', 'was', 'a', 'revolution', 'in', 'natural', 'language', 'processing', 'with', 'the', 'introduction', 'of', 'machine', 'learning', 'algorithms', 'for', 'language', 'processing', '.', 'this', 'was', 'due', 'to', 'both', 'the', 'steady', 'increase', 'in', 'computational', 'power', '(', 'see', 'moore', \"'\", 's', 'law', ')', 'and', 'the', 'gradual', 'lessening', 'of', 'the', 'dominance', 'of', 'chomskyan', 'theories', 'of', 'linguistics', '(', 'e', '.', 'g', '.', 'transformational', 'grammar', '),', 'whose', 'theoretical', 'underpinnings', 'discouraged', 'the', 'sort', 'of', 'corpus', 'linguistics', 'that', 'underlies', 'the', 'machine', '-', 'learning', 'approach', 'to', 'language', 'processing', '.[', '3', ']', 'some', 'of', 'the', 'earliest', '-', 'used', 'machine', 'learning', 'algorithms', ',', 'such', 'as', 'decision', 'trees', ',', 'produced', 'systems', 'of', 'hard', 'if', '-', 'then', 'rules', 'similar', 'to', 'existing', 'hand', '-', 'written', 'rules', '.', 'however', ',', 'part', '-', 'of', '-', 'speech', 'tagging', 'introduced', 'the', 'use', 'of', 'hidden', 'markov', 'models', 'to', 'natural', 'language', 'processing', ',', 'and', 'increasingly', ',', 'research', 'has', 'focused', 'on', 'statistical', 'models', ',', 'which', 'make', 'soft', ',', 'probabilistic', 'decisions', 'based', 'on', 'attaching', 'real', '-', 'valued', 'weights', 'to', 'the', 'features', 'making', 'up', 'the', 'input', 'data', '.', 'the', 'cache', 'language', 'models', 'upon', 'which', 'many', 'speech', 'recognition', 'systems', 'now', 'rely', 'are', 'examples', 'of', 'such', 'statistical', 'models', '.', 'such', 'models', 'are', 'generally', 'more', 'robust', 'when', 'given', 'unfamiliar', 'input', ',', 'especially', 'input', 'that', 'contains', 'errors', '(', 'as', 'is', 'very', 'common', 'for', 'real', '-', 'world', 'data', '),', 'and', 'produce', 'more', 'reliable', 'results', 'when', 'integrated', 'into', 'a', 'larger', 'system', 'comprising', 'multiple', 'subtasks', '.']\n"
     ]
    }
   ],
   "source": [
    "#Tokenization using word punct tokenizer\n",
    "punct_tokenized_list = wordpunct_tokenize(converted_text)\n",
    "print(punct_tokenized_list)"
   ]
  },
  {
   "cell_type": "code",
   "execution_count": 6,
   "id": "4cde0288",
   "metadata": {},
   "outputs": [
    {
     "name": "stdout",
     "output_type": "stream",
     "text": [
      "{'gradual', 'are', '1978', 'theoretical', 'do', 'linguistics', 'your', 'with', 'why', 'racter', 'patient', 'knowledge', 'lehnert', 'learning', 'developed', 'structured', '1964', 'real-world', 'power', 'that', 'margie', 'make', 'recognition', 'more', 'fulfill', 'attaching', 'system', 'test', 'politics', 'systems', 'base', 'hidden', 'such', ',', 'carbonell', 'human-like', 'very', 'results', 'periods', 'multiple', 'emotion', 'natural', 'years', 'was', 'intelligence', 'most', 'machine-learning', 'started', 'models', 'making', '1960s', 'notably', 'georgetown', 'there', 'talespin', 'by', 'criterion', 'hard', 'unfamiliar', 'involved', 'dominance', 'has', 'turing', 'work', 'however', '?', 'conceptual', 'many', 'almost', 'examples', 'chomskyan', 'problem', 'to', 'published', 'now', 'expectations', '1954', 'sam', 'might', 'probabilistic', 'from', 'rogerian', 'data', 'meehan', 'input', 'sort', 'common', 'translation', 'or', 'due', 'is', 'english', 'grammar', 'within', 'had', '1950', 'no', 'example', 'an', '1977', 'rules', 'statistical', 'reduced', 'programmers', 'found', ')', 'up', 'law', 'successful', 'and', 'after', ']', 'hand-written', 'discouraged', 'earliest-used', '1966', 'robust', 'algorithms', 'can', 'pam', 'introduced', '1970s', 'article', 'until', 'psychotherapist', 'report', '.', 'into', 'failed', 'using', 'response', '1979', 'as', 'this', 'time', 'steady', 'history', 'of', 'five', '[', 'corpus', 'restricted', 'further', 'jabberwacky', 'startlingly', 'larger', 'called', '1950s', 'moore', 'ten-year-long', 'progress', 'sixty', 'eliza', 'would', 'computer-understandable', 'units', 'trees', 'features', 'in', 'automatic', 'be', 'blocks', \"''\", 'proposed', 'solved', 'thought', 'provide', 'were', 'some', 'say', 'small', 'ontologies', 'funding', 'sentences', 'written', 'provided', '1981', 'on', 'rely', 'underlies', 'contains', 'theories', 'existing', 'use', 'little', 'the', 'part-of-speech', '``', 'for', 'tagging', 'about', '(', 'weizenbaum', 'than', 'soft', 'produce', 'revolution', 'introduction', 'given', \"'s\", 'human', 'generic', 'although', 'both', 'decision', 'machine', 'see', 'cache', 'especially', 'claimed', 'alpac', 'subtasks', 'slower', 'real', 'dramatically', 'errors', 'generally', 'including', 'produced', 'approach', 'cullingford', 'first', 'vocabularies', 'fully', 'underpinnings', 'earlier', 'lessening', 'speech', 'increase', 'late', 'much', 'information', 'chatterbots', 'e.g', 'sometimes', 'conducted', '1975', 'you', '1976', 'starting', 'upon', 'hurts', 'when', 'simulation', 'what', 'head', 'decisions', 'sets', 'research', '1980s', 'began', 'wilensky', 'plot', 'whose', 'increasingly', 'russian', 'interaction', 'write', '2', 'complex', 'markov', 'during', 'working', 'responding', 'joseph', 'qualm', 'transformational', '3', 'experiment', 'processing', 'three', 'reliable', 'based', 'computational', 'shrdlu', '1966.', 'alan', 'which', 'between', 'parry', 'titled', 'authors', 'worlds', 'integrated', 'exceeded', 'focused', 'my', 'language', 'schank', 'a', 'similar', 'real-valued', 'if-then', 'comprising', 'weights'}\n"
     ]
    }
   ],
   "source": [
    "#get vocabulary\n",
    "vocab_set = set(tokenized_list)\n",
    "print(vocab_set)"
   ]
  },
  {
   "cell_type": "code",
   "execution_count": 7,
   "id": "85fc2e3d",
   "metadata": {},
   "outputs": [
    {
     "name": "stdout",
     "output_type": "stream",
     "text": [
      "594\n",
      "576\n"
     ]
    }
   ],
   "source": [
    "print(len(punct_tokenized_list))\n",
    "print(len(tokenized_list))"
   ]
  },
  {
   "cell_type": "code",
   "execution_count": 8,
   "id": "47051592",
   "metadata": {},
   "outputs": [
    {
     "name": "stdout",
     "output_type": "stream",
     "text": [
      "{'gradual', '1978', 'linguistics', 'racter', 'patient', 'knowledge', 'lehnert', 'learning', 'developed', 'structured', '1964', 'real-world', 'power', 'margie', 'make', 'recognition', 'fulfill', 'attaching', 'system', 'test', 'politics', 'systems', 'base', 'hidden', ',', 'carbonell', 'human-like', 'results', 'periods', 'multiple', 'emotion', 'natural', 'years', 'intelligence', 'started', 'models', 'making', '1960s', 'notably', 'georgetown', 'talespin', 'unfamiliar', 'hard', 'criterion', 'dominance', 'involved', 'turing', 'work', 'however', '?', 'conceptual', 'many', 'almost', 'examples', 'chomskyan', 'problem', 'published', 'expectations', '1954', 'sam', 'might', 'probabilistic', 'input', 'rogerian', 'data', 'meehan', 'common', 'sort', 'translation', 'due', 'english', 'grammar', 'within', '1977', '1950', 'example', 'rules', 'statistical', 'reduced', 'programmers', 'found', ')', 'law', 'successful', 'hand-written', ']', 'discouraged', 'earliest-used', '1966', 'robust', 'algorithms', 'pam', 'introduced', 'theoretical', '1970s', 'article', 'psychotherapist', 'report', '.', 'failed', 'using', 'response', '1979', 'steady', 'time', 'history', 'five', '[', 'corpus', 'restricted', 'jabberwacky', 'larger', 'startlingly', 'called', '1950s', 'moore', 'ten-year-long', 'progress', 'sixty', 'eliza', 'would', 'computer-understandable', 'units', 'trees', 'features', 'automatic', 'blocks', \"''\", 'proposed', 'solved', 'machine-learning', 'thought', 'provide', 'say', 'small', 'ontologies', 'funding', 'sentences', 'written', 'provided', '1981', 'rely', 'underlies', 'contains', 'theories', 'existing', 'use', 'little', 'part-of-speech', '``', 'tagging', '(', 'weizenbaum', 'soft', 'produce', 'revolution', 'introduction', 'given', \"'s\", 'human', 'generic', 'although', 'decision', 'machine', 'see', 'cache', 'especially', 'claimed', 'alpac', 'subtasks', 'slower', 'real', 'dramatically', 'errors', 'generally', 'including', 'produced', 'approach', 'cullingford', 'first', 'vocabularies', 'fully', 'underpinnings', 'earlier', 'lessening', 'speech', 'increase', 'late', 'much', 'information', 'chatterbots', 'e.g', 'sometimes', 'conducted', '1975', '1976', 'starting', 'upon', 'hurts', 'simulation', 'head', 'decisions', 'sets', 'research', '1980s', 'began', 'wilensky', 'plot', 'whose', 'increasingly', 'russian', 'interaction', 'write', '2', 'complex', 'markov', 'working', 'responding', 'joseph', 'qualm', 'transformational', '3', 'experiment', 'processing', 'three', 'reliable', 'based', 'computational', 'shrdlu', '1966.', 'alan', 'parry', 'titled', 'authors', 'worlds', 'integrated', 'exceeded', 'focused', 'schank', 'language', 'similar', 'real-valued', 'if-then', 'comprising', 'weights'}\n"
     ]
    }
   ],
   "source": [
    "#remove stop words\n",
    "set_wo_stopwords = vocab_set - set(stopwords.words(\"english\"))\n",
    "print(set_wo_stopwords)"
   ]
  },
  {
   "cell_type": "code",
   "execution_count": 9,
   "id": "36870ff3",
   "metadata": {},
   "outputs": [
    {
     "name": "stderr",
     "output_type": "stream",
     "text": [
      "[nltk_data] Downloading package stopwords to\n",
      "[nltk_data]     C:\\Users\\sarita.sahu\\AppData\\Roaming\\nltk_data...\n",
      "[nltk_data]   Package stopwords is already up-to-date!\n"
     ]
    },
    {
     "data": {
      "text/plain": [
       "True"
      ]
     },
     "execution_count": 9,
     "metadata": {},
     "output_type": "execute_result"
    }
   ],
   "source": [
    "#nltk.download('stopwords')"
   ]
  },
  {
   "cell_type": "code",
   "execution_count": 10,
   "id": "45cdd7f2",
   "metadata": {},
   "outputs": [
    {
     "name": "stdout",
     "output_type": "stream",
     "text": [
      "{'gradual', '1978', 'linguistics', 'racter', 'patient', 'knowledge', 'lehnert', 'learning', 'developed', 'structured', '1964', 'real-world', 'power', 'margie', 'make', 'recognition', 'fulfill', 'attaching', 'system', 'test', 'politics', 'systems', 'base', 'hidden', 'carbonell', 'human-like', 'results', 'periods', 'multiple', 'emotion', 'natural', 'years', 'intelligence', 'started', 'models', 'making', '1960s', 'notably', 'georgetown', 'talespin', 'unfamiliar', 'hard', 'criterion', 'dominance', 'involved', 'turing', 'work', 'however', 'conceptual', 'many', 'almost', 'examples', 'chomskyan', 'problem', 'published', 'expectations', '1954', 'sam', 'might', 'probabilistic', 'input', 'rogerian', 'data', 'meehan', 'common', 'sort', 'translation', 'due', 'english', 'grammar', 'within', '1977', '1950', 'example', 'rules', 'statistical', 'reduced', 'programmers', 'found', 'law', 'successful', 'hand-written', 'discouraged', 'earliest-used', '1966', 'robust', 'algorithms', 'pam', 'introduced', 'theoretical', '1970s', 'article', 'psychotherapist', 'report', 'failed', 'using', 'response', '1979', 'steady', 'time', 'history', 'five', 'corpus', 'restricted', 'jabberwacky', 'larger', 'startlingly', 'called', '1950s', 'moore', 'ten-year-long', 'progress', 'sixty', 'eliza', 'would', 'computer-understandable', 'units', 'trees', 'features', 'automatic', 'blocks', \"''\", 'proposed', 'solved', 'machine-learning', 'thought', 'provide', 'say', 'small', 'ontologies', 'funding', 'sentences', 'written', 'provided', '1981', 'rely', 'underlies', 'contains', 'theories', 'existing', 'use', 'little', 'part-of-speech', '``', 'tagging', 'weizenbaum', 'soft', 'produce', 'revolution', 'introduction', 'given', \"'s\", 'human', 'generic', 'although', 'decision', 'machine', 'see', 'cache', 'especially', 'claimed', 'alpac', 'subtasks', 'slower', 'real', 'dramatically', 'errors', 'generally', 'including', 'produced', 'approach', 'cullingford', 'first', 'vocabularies', 'fully', 'underpinnings', 'earlier', 'lessening', 'speech', 'increase', 'late', 'much', 'information', 'chatterbots', 'e.g', 'sometimes', 'conducted', '1975', '1976', 'starting', 'upon', 'hurts', 'simulation', 'head', 'decisions', 'sets', 'research', '1980s', 'began', 'wilensky', 'plot', 'whose', 'increasingly', 'russian', 'interaction', 'write', '2', 'complex', 'markov', 'working', 'responding', 'joseph', 'qualm', 'transformational', '3', 'experiment', 'processing', 'three', 'reliable', 'based', 'computational', 'shrdlu', '1966.', 'alan', 'parry', 'titled', 'authors', 'worlds', 'integrated', 'exceeded', 'focused', 'schank', 'language', 'similar', 'real-valued', 'if-then', 'comprising', 'weights'}\n"
     ]
    }
   ],
   "source": [
    "#remove punctuation\n",
    "set_wo_punctuation = set_wo_stopwords - set(punctuation)\n",
    "print(set_wo_punctuation)"
   ]
  },
  {
   "cell_type": "code",
   "execution_count": 11,
   "id": "461c9cfb",
   "metadata": {},
   "outputs": [
    {
     "name": "stdout",
     "output_type": "stream",
     "text": [
      "['gradual', '1978', 'linguist', 'racter', 'patient', 'knowledg', 'lehnert', 'learn', 'develop', 'structur', '1964', 'real-world', 'power', 'margi', 'make', 'recognit', 'fulfil', 'attach', 'system', 'test', 'polit', 'system', 'base', 'hidden', 'carbonel', 'human-lik', 'result', 'period', 'multipl', 'emot', 'natur', 'year', 'intellig', 'start', 'model', 'make', '1960s', 'notabl', 'georgetown', 'talespin', 'unfamiliar', 'hard', 'criterion', 'domin', 'involv', 'ture', 'work', 'howev', 'conceptu', 'mani', 'almost', 'exampl', 'chomskyan', 'problem', 'publish', 'expect', '1954', 'sam', 'might', 'probabilist', 'input', 'rogerian', 'data', 'meehan', 'common', 'sort', 'translat', 'due', 'english', 'grammar', 'within', '1977', '1950', 'exampl', 'rule', 'statist', 'reduc', 'programm', 'found', 'law', 'success', 'hand-written', 'discourag', 'earliest-us', '1966', 'robust', 'algorithm', 'pam', 'introduc', 'theoret', '1970s', 'articl', 'psychotherapist', 'report', 'fail', 'use', 'respons', '1979', 'steadi', 'time', 'histori', 'five', 'corpus', 'restrict', 'jabberwacki', 'larger', 'startl', 'call', '1950s', 'moor', 'ten-year-long', 'progress', 'sixti', 'eliza', 'would', 'computer-understand', 'unit', 'tree', 'featur', 'automat', 'block', \"''\", 'propos', 'solv', 'machine-learn', 'thought', 'provid', 'say', 'small', 'ontolog', 'fund', 'sentenc', 'written', 'provid', '1981', 'reli', 'under', 'contain', 'theori', 'exist', 'use', 'littl', 'part-of-speech', '``', 'tag', 'weizenbaum', 'soft', 'produc', 'revolut', 'introduct', 'given', \"'s\", 'human', 'generic', 'although', 'decis', 'machin', 'see', 'cach', 'especi', 'claim', 'alpac', 'subtask', 'slower', 'real', 'dramat', 'error', 'general', 'includ', 'produc', 'approach', 'cullingford', 'first', 'vocabulari', 'fulli', 'underpin', 'earlier', 'lessen', 'speech', 'increas', 'late', 'much', 'inform', 'chatterbot', 'e.g', 'sometim', 'conduct', '1975', '1976', 'start', 'upon', 'hurt', 'simul', 'head', 'decis', 'set', 'research', '1980s', 'began', 'wilenski', 'plot', 'whose', 'increas', 'russian', 'interact', 'write', '2', 'complex', 'markov', 'work', 'respond', 'joseph', 'qualm', 'transform', '3', 'experi', 'process', 'three', 'reliabl', 'base', 'comput', 'shrdlu', '1966.', 'alan', 'parri', 'titl', 'author', 'world', 'integr', 'exceed', 'focus', 'schank', 'languag', 'similar', 'real-valu', 'if-then', 'compris', 'weight']\n"
     ]
    }
   ],
   "source": [
    "#stemming\n",
    "stemmed_list= []\n",
    "stemObj = SnowballStemmer(\"english\")\n",
    "for i in set_wo_punctuation:\n",
    "    stemmed_list.append(stemObj.stem(i))\n",
    "print(stemmed_list)"
   ]
  },
  {
   "cell_type": "code",
   "execution_count": 16,
   "id": "88a86a0a",
   "metadata": {},
   "outputs": [
    {
     "name": "stdout",
     "output_type": "stream",
     "text": [
      "[('gradual', 'JJ'), ('1978', 'CD'), ('linguistics', 'NNS'), ('racter', 'JJ'), ('patient', 'NN'), ('knowledge', 'NN'), ('lehnert', 'NN'), ('learning', 'VBG'), ('developed', 'VBN'), ('structured', 'JJ'), ('1964', 'CD'), ('real-world', 'JJ'), ('power', 'NN'), ('margie', 'NNS'), ('make', 'VBP'), ('recognition', 'NN'), ('fulfill', 'NN'), ('attaching', 'VBG'), ('system', 'NN'), ('test', 'NN'), ('politics', 'NNS'), ('systems', 'NNS'), ('base', 'NN'), ('hidden', 'VBN'), ('carbonell', 'RB'), ('human-like', 'JJ'), ('results', 'NNS'), ('periods', 'NNS'), ('multiple', 'JJ'), ('emotion', 'JJ'), ('natural', 'JJ'), ('years', 'NNS'), ('intelligence', 'NN'), ('started', 'VBD'), ('models', 'NNS'), ('making', 'VBG'), ('1960s', 'CD'), ('notably', 'RB'), ('georgetown', 'JJ'), ('talespin', 'NN'), ('unfamiliar', 'JJ'), ('hard', 'JJ'), ('criterion', 'NN'), ('dominance', 'NN'), ('involved', 'VBN'), ('turing', 'VBG'), ('work', 'NN'), ('however', 'RB'), ('conceptual', 'JJ'), ('many', 'JJ'), ('almost', 'RB'), ('examples', 'NNS'), ('chomskyan', 'VBP'), ('problem', 'NN'), ('published', 'VBN'), ('expectations', 'NNS'), ('1954', 'CD'), ('sam', 'NN'), ('might', 'MD'), ('probabilistic', 'VB'), ('input', 'NN'), ('rogerian', 'JJ'), ('data', 'NNS'), ('meehan', 'NN'), ('common', 'JJ'), ('sort', 'NN'), ('translation', 'NN'), ('due', 'JJ'), ('english', 'JJ'), ('grammar', 'NN'), ('within', 'IN'), ('1977', 'CD'), ('1950', 'CD'), ('example', 'NN'), ('rules', 'NNS'), ('statistical', 'JJ'), ('reduced', 'VBD'), ('programmers', 'NNS'), ('found', 'VBD'), ('law', 'NN'), ('successful', 'JJ'), ('hand-written', 'JJ'), ('discouraged', 'VBN'), ('earliest-used', 'JJ'), ('1966', 'CD'), ('robust', 'JJ'), ('algorithms', 'NN'), ('pam', 'NN'), ('introduced', 'VBD'), ('theoretical', 'JJ'), ('1970s', 'CD'), ('article', 'NN'), ('psychotherapist', 'JJ'), ('report', 'NN'), ('failed', 'VBD'), ('using', 'VBG'), ('response', 'NN'), ('1979', 'CD'), ('steady', 'JJ'), ('time', 'NN'), ('history', 'NN'), ('five', 'CD'), ('corpus', 'NN'), ('restricted', 'VBN'), ('jabberwacky', 'JJ'), ('larger', 'JJR'), ('startlingly', 'RB'), ('called', 'VBD'), ('1950s', 'CD'), ('moore', 'NN'), ('ten-year-long', 'JJ'), ('progress', 'NN'), ('sixty', 'NN'), ('eliza', 'NN'), ('would', 'MD'), ('computer-understandable', 'JJ'), ('units', 'NNS'), ('trees', 'NNS'), ('features', 'NNS'), ('automatic', 'JJ'), ('blocks', 'NNS'), (\"''\", \"''\"), ('proposed', 'VBN'), ('solved', 'VBD'), ('machine-learning', 'JJ'), ('thought', 'JJ'), ('provide', 'NNS'), ('say', 'VBP'), ('small', 'JJ'), ('ontologies', 'NNS'), ('funding', 'VBG'), ('sentences', 'NNS'), ('written', 'VBN'), ('provided', 'JJ'), ('1981', 'CD'), ('rely', 'JJ'), ('underlies', 'NNS'), ('contains', 'VBZ'), ('theories', 'NNS'), ('existing', 'VBG'), ('use', 'NN'), ('little', 'JJ'), ('part-of-speech', 'JJ'), ('``', '``'), ('tagging', 'VBG'), ('weizenbaum', 'NN'), ('soft', 'JJ'), ('produce', 'NN'), ('revolution', 'NN'), ('introduction', 'NN'), ('given', 'VBN'), (\"'s\", 'POS'), ('human', 'JJ'), ('generic', 'JJ'), ('although', 'IN'), ('decision', 'NN'), ('machine', 'NN'), ('see', 'VBP'), ('cache', 'NN'), ('especially', 'RB'), ('claimed', 'VBD'), ('alpac', 'JJ'), ('subtasks', 'NNS'), ('slower', 'JJR'), ('real', 'JJ'), ('dramatically', 'RB'), ('errors', 'NNS'), ('generally', 'RB'), ('including', 'VBG'), ('produced', 'VBN'), ('approach', 'NN'), ('cullingford', 'NN'), ('first', 'JJ'), ('vocabularies', 'NNS'), ('fully', 'RB'), ('underpinnings', 'NNS'), ('earlier', 'RBR'), ('lessening', 'VBG'), ('speech', 'JJ'), ('increase', 'NN'), ('late', 'RB'), ('much', 'JJ'), ('information', 'NN'), ('chatterbots', 'NNS'), ('e.g', 'VBP'), ('sometimes', 'RB'), ('conducted', 'VBN'), ('1975', 'CD'), ('1976', 'CD'), ('starting', 'VBG'), ('upon', 'IN'), ('hurts', 'NNS'), ('simulation', 'NN'), ('head', 'NN'), ('decisions', 'NNS'), ('sets', 'VBZ'), ('research', 'NN'), ('1980s', 'CD'), ('began', 'VBD'), ('wilensky', 'JJ'), ('plot', 'NN'), ('whose', 'WP$'), ('increasingly', 'RB'), ('russian', 'JJ'), ('interaction', 'NN'), ('write', 'RB'), ('2', 'CD'), ('complex', 'JJ'), ('markov', 'NN'), ('working', 'VBG'), ('responding', 'VBG'), ('joseph', 'JJ'), ('qualm', 'JJ'), ('transformational', 'JJ'), ('3', 'CD'), ('experiment', 'NN'), ('processing', 'NN'), ('three', 'CD'), ('reliable', 'NN'), ('based', 'VBN'), ('computational', 'JJ'), ('shrdlu', 'NN'), ('1966.', 'CD'), ('alan', 'NN'), ('parry', 'NN'), ('titled', 'VBN'), ('authors', 'NNS'), ('worlds', 'NNS'), ('integrated', 'VBD'), ('exceeded', 'VBD'), ('focused', 'JJ'), ('schank', 'NN'), ('language', 'NN'), ('similar', 'JJ'), ('real-valued', 'JJ'), ('if-then', 'NN'), ('comprising', 'NN'), ('weights', 'NNS')]\n",
      "['gradual', '1978', 'linguistics', 'racter', 'patient', 'knowledge', 'lehnert', 'learn', 'develop', 'structured', '1964', 'real-world', 'power', 'margie', 'make', 'recognition', 'fulfill', 'attach', 'system', 'test', 'politics', 'system', 'base', 'hide', 'carbonell', 'human-like', 'result', 'period', 'multiple', 'emotion', 'natural', 'year', 'intelligence', 'start', 'model', 'make', '1960s', 'notably', 'georgetown', 'talespin', 'unfamiliar', 'hard', 'criterion', 'dominance', 'involve', 'turing', 'work', 'however', 'conceptual', 'many', 'almost', 'example', 'chomskyan', 'problem', 'publish', 'expectation', '1954', 'sam', 'might', 'probabilistic', 'input', 'rogerian', 'data', 'meehan', 'common', 'sort', 'translation', 'due', 'english', 'grammar', 'within', '1977', '1950', 'example', 'rule', 'statistical', 'reduce', 'programmer', 'find', 'law', 'successful', 'hand-written', 'discourage', 'earliest-used', '1966', 'robust', 'algorithm', 'pam', 'introduce', 'theoretical', '1970s', 'article', 'psychotherapist', 'report', 'fail', 'use', 'response', '1979', 'steady', 'time', 'history', 'five', 'corpus', 'restrict', 'jabberwacky', 'large', 'startlingly', 'call', '1950s', 'moore', 'ten-year-long', 'progress', 'sixty', 'eliza', 'would', 'computer-understandable', 'unit', 'tree', 'feature', 'automatic', 'block', \"''\", 'propose', 'solve', 'machine-learning', 'thought', 'provide', 'say', 'small', 'ontology', 'fund', 'sentence', 'write', 'provided', '1981', 'rely', 'underlies', 'contain', 'theory', 'exist', 'use', 'little', 'part-of-speech', '``', 'tag', 'weizenbaum', 'soft', 'produce', 'revolution', 'introduction', 'give', \"'s\", 'human', 'generic', 'although', 'decision', 'machine', 'see', 'cache', 'especially', 'claim', 'alpac', 'subtasks', 'slow', 'real', 'dramatically', 'error', 'generally', 'include', 'produce', 'approach', 'cullingford', 'first', 'vocabulary', 'fully', 'underpinnings', 'earlier', 'lessen', 'speech', 'increase', 'late', 'much', 'information', 'chatterbots', 'e.g', 'sometimes', 'conduct', '1975', '1976', 'start', 'upon', 'hurt', 'simulation', 'head', 'decision', 'set', 'research', '1980s', 'begin', 'wilensky', 'plot', 'whose', 'increasingly', 'russian', 'interaction', 'write', '2', 'complex', 'markov', 'work', 'respond', 'joseph', 'qualm', 'transformational', '3', 'experiment', 'processing', 'three', 'reliable', 'base', 'computational', 'shrdlu', '1966.', 'alan', 'parry', 'title', 'author', 'world', 'integrate', 'exceed', 'focused', 'schank', 'language', 'similar', 'real-valued', 'if-then', 'comprising', 'weight']\n"
     ]
    }
   ],
   "source": [
    "from nltk.corpus import wordnet\n",
    "from nltk import pos_tag\n",
    "#parts of speech tagging\n",
    "pos_tag_list = pos_tag(set_wo_punctuation)\n",
    "print(pos_tag_list)\n",
    "#for getting parts of speech\n",
    "def parts_of_speech(pos):\n",
    "    if pos.startswith(\"N\"):\n",
    "        return wordnet.NOUN\n",
    "    elif pos.startswith(\"J\"):\n",
    "        return wordnet.ADJ\n",
    "    elif pos.startswith(\"V\"):\n",
    "        return wordnet.VERB\n",
    "    elif pos.startswith(\"R\"):\n",
    "        return wordnet.ADV\n",
    "    elif pos.startswith(\"S\"):\n",
    "        return wordnet.ADJ_SAT\n",
    "    else:\n",
    "        return ''\n",
    "#lemmatization\n",
    "lemma_list = []\n",
    "lemmaObj = WordNetLemmatizer()\n",
    "for word,pos in pos_tag_list:\n",
    "    get_pos = parts_of_speech(pos)\n",
    "    if get_pos != '':\n",
    "        lemma_list.append(lemmaObj.lemmatize(word, pos = get_pos))\n",
    "    else:\n",
    "        lemma_list.append(word)\n",
    "print(lemma_list)"
   ]
  },
  {
   "cell_type": "code",
   "execution_count": 15,
   "id": "b988e4ef",
   "metadata": {},
   "outputs": [
    {
     "name": "stderr",
     "output_type": "stream",
     "text": [
      "[nltk_data] Downloading package wordnet to\n",
      "[nltk_data]     C:\\Users\\sarita.sahu\\AppData\\Roaming\\nltk_data...\n"
     ]
    },
    {
     "data": {
      "text/plain": [
       "True"
      ]
     },
     "execution_count": 15,
     "metadata": {},
     "output_type": "execute_result"
    }
   ],
   "source": [
    "#nltk.download('averaged_perceptron_tagger')\n",
    "#import nltk\n",
    "#nltk.download('wordnet')"
   ]
  },
  {
   "cell_type": "code",
   "execution_count": 14,
   "id": "19e53ee8",
   "metadata": {},
   "outputs": [
    {
     "name": "stdout",
     "output_type": "stream",
     "text": [
      "[('gradual', '1978'), ('1978', 'linguistics'), ('linguistics', 'racter'), ('racter', 'patient'), ('patient', 'knowledge'), ('knowledge', 'lehnert'), ('lehnert', 'learning'), ('learning', 'developed'), ('developed', 'structured'), ('structured', '1964'), ('1964', 'real-world'), ('real-world', 'power'), ('power', 'margie'), ('margie', 'make'), ('make', 'recognition'), ('recognition', 'fulfill'), ('fulfill', 'attaching'), ('attaching', 'system'), ('system', 'test'), ('test', 'politics'), ('politics', 'systems'), ('systems', 'base'), ('base', 'hidden'), ('hidden', 'carbonell'), ('carbonell', 'human-like'), ('human-like', 'results'), ('results', 'periods'), ('periods', 'multiple'), ('multiple', 'emotion'), ('emotion', 'natural'), ('natural', 'years'), ('years', 'intelligence'), ('intelligence', 'started'), ('started', 'models'), ('models', 'making'), ('making', '1960s'), ('1960s', 'notably'), ('notably', 'georgetown'), ('georgetown', 'talespin'), ('talespin', 'unfamiliar'), ('unfamiliar', 'hard'), ('hard', 'criterion'), ('criterion', 'dominance'), ('dominance', 'involved'), ('involved', 'turing'), ('turing', 'work'), ('work', 'however'), ('however', 'conceptual'), ('conceptual', 'many'), ('many', 'almost'), ('almost', 'examples'), ('examples', 'chomskyan'), ('chomskyan', 'problem'), ('problem', 'published'), ('published', 'expectations'), ('expectations', '1954'), ('1954', 'sam'), ('sam', 'might'), ('might', 'probabilistic'), ('probabilistic', 'input'), ('input', 'rogerian'), ('rogerian', 'data'), ('data', 'meehan'), ('meehan', 'common'), ('common', 'sort'), ('sort', 'translation'), ('translation', 'due'), ('due', 'english'), ('english', 'grammar'), ('grammar', 'within'), ('within', '1977'), ('1977', '1950'), ('1950', 'example'), ('example', 'rules'), ('rules', 'statistical'), ('statistical', 'reduced'), ('reduced', 'programmers'), ('programmers', 'found'), ('found', 'law'), ('law', 'successful'), ('successful', 'hand-written'), ('hand-written', 'discouraged'), ('discouraged', 'earliest-used'), ('earliest-used', '1966'), ('1966', 'robust'), ('robust', 'algorithms'), ('algorithms', 'pam'), ('pam', 'introduced'), ('introduced', 'theoretical'), ('theoretical', '1970s'), ('1970s', 'article'), ('article', 'psychotherapist'), ('psychotherapist', 'report'), ('report', 'failed'), ('failed', 'using'), ('using', 'response'), ('response', '1979'), ('1979', 'steady'), ('steady', 'time'), ('time', 'history'), ('history', 'five'), ('five', 'corpus'), ('corpus', 'restricted'), ('restricted', 'jabberwacky'), ('jabberwacky', 'larger'), ('larger', 'startlingly'), ('startlingly', 'called'), ('called', '1950s'), ('1950s', 'moore'), ('moore', 'ten-year-long'), ('ten-year-long', 'progress'), ('progress', 'sixty'), ('sixty', 'eliza'), ('eliza', 'would'), ('would', 'computer-understandable'), ('computer-understandable', 'units'), ('units', 'trees'), ('trees', 'features'), ('features', 'automatic'), ('automatic', 'blocks'), ('blocks', \"''\"), (\"''\", 'proposed'), ('proposed', 'solved'), ('solved', 'machine-learning'), ('machine-learning', 'thought'), ('thought', 'provide'), ('provide', 'say'), ('say', 'small'), ('small', 'ontologies'), ('ontologies', 'funding'), ('funding', 'sentences'), ('sentences', 'written'), ('written', 'provided'), ('provided', '1981'), ('1981', 'rely'), ('rely', 'underlies'), ('underlies', 'contains'), ('contains', 'theories'), ('theories', 'existing'), ('existing', 'use'), ('use', 'little'), ('little', 'part-of-speech'), ('part-of-speech', '``'), ('``', 'tagging'), ('tagging', 'weizenbaum'), ('weizenbaum', 'soft'), ('soft', 'produce'), ('produce', 'revolution'), ('revolution', 'introduction'), ('introduction', 'given'), ('given', \"'s\"), (\"'s\", 'human'), ('human', 'generic'), ('generic', 'although'), ('although', 'decision'), ('decision', 'machine'), ('machine', 'see'), ('see', 'cache'), ('cache', 'especially'), ('especially', 'claimed'), ('claimed', 'alpac'), ('alpac', 'subtasks'), ('subtasks', 'slower'), ('slower', 'real'), ('real', 'dramatically'), ('dramatically', 'errors'), ('errors', 'generally'), ('generally', 'including'), ('including', 'produced'), ('produced', 'approach'), ('approach', 'cullingford'), ('cullingford', 'first'), ('first', 'vocabularies'), ('vocabularies', 'fully'), ('fully', 'underpinnings'), ('underpinnings', 'earlier'), ('earlier', 'lessening'), ('lessening', 'speech'), ('speech', 'increase'), ('increase', 'late'), ('late', 'much'), ('much', 'information'), ('information', 'chatterbots'), ('chatterbots', 'e.g'), ('e.g', 'sometimes'), ('sometimes', 'conducted'), ('conducted', '1975'), ('1975', '1976'), ('1976', 'starting'), ('starting', 'upon'), ('upon', 'hurts'), ('hurts', 'simulation'), ('simulation', 'head'), ('head', 'decisions'), ('decisions', 'sets'), ('sets', 'research'), ('research', '1980s'), ('1980s', 'began'), ('began', 'wilensky'), ('wilensky', 'plot'), ('plot', 'whose'), ('whose', 'increasingly'), ('increasingly', 'russian'), ('russian', 'interaction'), ('interaction', 'write'), ('write', '2'), ('2', 'complex'), ('complex', 'markov'), ('markov', 'working'), ('working', 'responding'), ('responding', 'joseph'), ('joseph', 'qualm'), ('qualm', 'transformational'), ('transformational', '3'), ('3', 'experiment'), ('experiment', 'processing'), ('processing', 'three'), ('three', 'reliable'), ('reliable', 'based'), ('based', 'computational'), ('computational', 'shrdlu'), ('shrdlu', '1966.'), ('1966.', 'alan'), ('alan', 'parry'), ('parry', 'titled'), ('titled', 'authors'), ('authors', 'worlds'), ('worlds', 'integrated'), ('integrated', 'exceeded'), ('exceeded', 'focused'), ('focused', 'schank'), ('schank', 'language'), ('language', 'similar'), ('similar', 'real-valued'), ('real-valued', 'if-then'), ('if-then', 'comprising'), ('comprising', 'weights')]\n"
     ]
    }
   ],
   "source": [
    "from nltk.util import ngrams\n",
    "#bigrams\n",
    "bigrams = ngrams(set_wo_punctuation,2)\n",
    "print(list(bigrams))"
   ]
  },
  {
   "cell_type": "code",
   "execution_count": 17,
   "id": "472da8e9",
   "metadata": {},
   "outputs": [],
   "source": [
    "import re"
   ]
  },
  {
   "cell_type": "code",
   "execution_count": 18,
   "id": "921ad3b3",
   "metadata": {},
   "outputs": [
    {
     "name": "stdout",
     "output_type": "stream",
     "text": [
      "Occurences of a-z:  <re.Match object; span=(5, 8), match='was'>\n"
     ]
    }
   ],
   "source": [
    "sent3 = \"1947 was when India became independent.\"\n",
    "print(\"Occurences of a-z: \",re.search(r\"[a-z]+\",sent3))"
   ]
  },
  {
   "cell_type": "code",
   "execution_count": 19,
   "id": "e45e3d69",
   "metadata": {},
   "outputs": [
    {
     "name": "stdout",
     "output_type": "stream",
     "text": [
      "Occurences of 0-9:  <re.Match object; span=(0, 4), match='1947'>\n"
     ]
    }
   ],
   "source": [
    "sent3 = \"1947 was when India became independent.\"\n",
    "print(\"Occurences of 0-9: \",re.search(r\"[0-9]+\",sent3))"
   ]
  },
  {
   "cell_type": "code",
   "execution_count": 20,
   "id": "d2171f3e",
   "metadata": {},
   "outputs": [
    {
     "name": "stdout",
     "output_type": "stream",
     "text": [
      "Occurences of w and space:  <re.Match object; span=(0, 38), match='1947_was when India became independent'>\n"
     ]
    }
   ],
   "source": [
    "sent3 = \"1947_was when India became independent.\"\n",
    "print(\"Occurences of w and space: \",re.search(r\"[\\w ]+\",sent3))"
   ]
  },
  {
   "cell_type": "code",
   "execution_count": 21,
   "id": "78ca906e",
   "metadata": {},
   "outputs": [
    {
     "name": "stdout",
     "output_type": "stream",
     "text": [
      "I like tea\n"
     ]
    }
   ],
   "source": [
    "sent = \"I like coffee\" \n",
    "print(re.sub(r\"coffee\",\"tea\",sent))"
   ]
  },
  {
   "cell_type": "code",
   "execution_count": 22,
   "id": "0d12219d",
   "metadata": {},
   "outputs": [
    {
     "name": "stdout",
     "output_type": "stream",
     "text": [
      "['coffee', 'coffee', 'coffee', 'coffee']\n",
      "4\n"
     ]
    }
   ],
   "source": [
    "sent = \"I like coffee and coffee is amazing. coffee keeps me awake. coffee is bad\" \n",
    "print(re.findall(r\"coffee\",sent))\n",
    "#prints ['coffee', 'coffee', 'coffee', 'coffee']\n",
    "print(len(re.findall(r\"coffee\",sent)))"
   ]
  }
 ],
 "metadata": {
  "kernelspec": {
   "display_name": "Python 3",
   "language": "python",
   "name": "python3"
  },
  "language_info": {
   "codemirror_mode": {
    "name": "ipython",
    "version": 3
   },
   "file_extension": ".py",
   "mimetype": "text/x-python",
   "name": "python",
   "nbconvert_exporter": "python",
   "pygments_lexer": "ipython3",
   "version": "3.8.8"
  }
 },
 "nbformat": 4,
 "nbformat_minor": 5
}
