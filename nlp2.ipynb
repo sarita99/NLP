{
 "cells": [
  {
   "cell_type": "code",
   "execution_count": 1,
   "id": "73f4f99d",
   "metadata": {
    "collapsed": true
   },
   "outputs": [
    {
     "name": "stdout",
     "output_type": "stream",
     "text": [
      "Wikipedia is a multilingual, web-based, free encyclopedia based on a model of openly editable content. It is the largest and most popular general reference work on the Internet, and is one of the most popular websites by Alexa rank. It is owned and supported by the Wikimedia Foundation, a non-profit organization which operates on money it receives from donors.\n",
      "Wikipedia was launched on January 15, 2001, by Jimmy Wales and Larry Sanger. Sanger coined its name, as a portmanteau of wiki and \"encyclopedia\". Initially an English-language encyclopedia, versions in other languages were quickly developed. With 5,721,582 articles, the English Wikipedia is the largest of the more than 290 Wikipedia encyclopedias. Overall, Wikipedia comprises more than 40 million articles in 301 different languages and had 18 billion page views and nearly 500 million unique visitors each month as of February 2014.\n",
      "In 2005, Nature published a peer review comparing 42 science articles from Encyclopædia Britannica and Wikipedia and found that Wikipedia's level of accuracy approached that of Encyclopædia Britannica. Time magazine stated that the open-door policy of allowing anyone to edit had made Wikipedia the biggest and possibly the best encyclopedia in the world and it was testament to the vision of Jimmy Wales.\n",
      "Wikipedia has been criticized for exhibiting systemic bias, for presenting a mixture of \"truths, half truths, and some falsehoods\", and for being subject to manipulation and spin in controversial topics. In 2017, Facebook announced that it would help readers detect fake news by suitable links to Wikipedia articles. YouTube announced a similar plan in 2018. In response, The Washington Post headlined, \"Wikipedia, the ‘good cop’ of the Internet\".\n"
     ]
    }
   ],
   "source": [
    "import nltk\n",
    "import string\n",
    "from nltk import word_tokenize\n",
    "from nltk import wordpunct_tokenize\n",
    "from nltk.corpus import stopwords\n",
    "from string import punctuation\n",
    "from nltk.stem.snowball import SnowballStemmer\n",
    "from nltk.stem.wordnet import WordNetLemmatizer\n",
    "from nltk import pos_tag\n",
    "#read the file \n",
    "#Note: use the correct path of the file depending on your environment\n",
    "file = open(\"data/sample1.txt\",'r') \n",
    "text = ''\n",
    "for i in file.readlines():\n",
    "    text+=i\n",
    "print(text)"
   ]
  },
  {
   "cell_type": "code",
   "execution_count": 2,
   "id": "4451b80f",
   "metadata": {
    "collapsed": true
   },
   "outputs": [
    {
     "name": "stdout",
     "output_type": "stream",
     "text": [
      "Wikipedia is a multilingual, web-based, free encyclopedia based on a model of openly editable content. It is the largest and most popular general reference work on the Internet, and is one of the most popular websites by Alexa rank. It is owned and supported by the Wikimedia Foundation, a non-profit organization which operates on money it receives from donors.\n",
      "Wikipedia was launched on January 15, 2001, by Jimmy Wales and Larry Sanger. Sanger coined its name, as a portmanteau of wiki and \"encyclopedia\". Initially an English-language encyclopedia, versions in other languages were quickly developed. With 5,721,582 articles, the English Wikipedia is the largest of the more than 290 Wikipedia encyclopedias. Overall, Wikipedia comprises more than 40 million articles in 301 different languages and had 18 billion page views and nearly 500 million unique visitors each month as of February 2014.\n",
      "In 2005, Nature published a peer review comparing 42 science articles from Encyclopædia Britannica and Wikipedia and found that Wikipedia's level of accuracy approached that of Encyclopædia Britannica. Time magazine stated that the open-door policy of allowing anyone to edit had made Wikipedia the biggest and possibly the best encyclopedia in the world and it was testament to the vision of Jimmy Wales.\n",
      "Wikipedia has been criticized for exhibiting systemic bias, for presenting a mixture of \"truths, half truths, and some falsehoods\", and for being subject to manipulation and spin in controversial topics. In 2017, Facebook announced that it would help readers detect fake news by suitable links to Wikipedia articles. YouTube announced a similar plan in 2018. In response, The Washington Post headlined, \"Wikipedia, the ‘good cop’ of the Internet\".\n"
     ]
    }
   ],
   "source": [
    "#remove trailing spaces\n",
    "trimmed_text = text.strip()\n",
    "print(trimmed_text)"
   ]
  },
  {
   "cell_type": "code",
   "execution_count": 3,
   "id": "86cc714d",
   "metadata": {
    "collapsed": true
   },
   "outputs": [
    {
     "name": "stdout",
     "output_type": "stream",
     "text": [
      "wikipedia is a multilingual, web-based, free encyclopedia based on a model of openly editable content. it is the largest and most popular general reference work on the internet, and is one of the most popular websites by alexa rank. it is owned and supported by the wikimedia foundation, a non-profit organization which operates on money it receives from donors.\n",
      "wikipedia was launched on january 15, 2001, by jimmy wales and larry sanger. sanger coined its name, as a portmanteau of wiki and \"encyclopedia\". initially an english-language encyclopedia, versions in other languages were quickly developed. with 5,721,582 articles, the english wikipedia is the largest of the more than 290 wikipedia encyclopedias. overall, wikipedia comprises more than 40 million articles in 301 different languages and had 18 billion page views and nearly 500 million unique visitors each month as of february 2014.\n",
      "in 2005, nature published a peer review comparing 42 science articles from encyclopædia britannica and wikipedia and found that wikipedia's level of accuracy approached that of encyclopædia britannica. time magazine stated that the open-door policy of allowing anyone to edit had made wikipedia the biggest and possibly the best encyclopedia in the world and it was testament to the vision of jimmy wales.\n",
      "wikipedia has been criticized for exhibiting systemic bias, for presenting a mixture of \"truths, half truths, and some falsehoods\", and for being subject to manipulation and spin in controversial topics. in 2017, facebook announced that it would help readers detect fake news by suitable links to wikipedia articles. youtube announced a similar plan in 2018. in response, the washington post headlined, \"wikipedia, the ‘good cop’ of the internet\".\n"
     ]
    }
   ],
   "source": [
    "converted_text = trimmed_text.lower()\n",
    "print(converted_text)"
   ]
  },
  {
   "cell_type": "code",
   "execution_count": 4,
   "id": "d56f73d9",
   "metadata": {
    "collapsed": true
   },
   "outputs": [
    {
     "name": "stdout",
     "output_type": "stream",
     "text": [
      "['wikipedia', 'is', 'a', 'multilingual', ',', 'web-based', ',', 'free', 'encyclopedia', 'based', 'on', 'a', 'model', 'of', 'openly', 'editable', 'content', '.', 'it', 'is', 'the', 'largest', 'and', 'most', 'popular', 'general', 'reference', 'work', 'on', 'the', 'internet', ',', 'and', 'is', 'one', 'of', 'the', 'most', 'popular', 'websites', 'by', 'alexa', 'rank', '.', 'it', 'is', 'owned', 'and', 'supported', 'by', 'the', 'wikimedia', 'foundation', ',', 'a', 'non-profit', 'organization', 'which', 'operates', 'on', 'money', 'it', 'receives', 'from', 'donors', '.', 'wikipedia', 'was', 'launched', 'on', 'january', '15', ',', '2001', ',', 'by', 'jimmy', 'wales', 'and', 'larry', 'sanger', '.', 'sanger', 'coined', 'its', 'name', ',', 'as', 'a', 'portmanteau', 'of', 'wiki', 'and', '``', 'encyclopedia', \"''\", '.', 'initially', 'an', 'english-language', 'encyclopedia', ',', 'versions', 'in', 'other', 'languages', 'were', 'quickly', 'developed', '.', 'with', '5,721,582', 'articles', ',', 'the', 'english', 'wikipedia', 'is', 'the', 'largest', 'of', 'the', 'more', 'than', '290', 'wikipedia', 'encyclopedias', '.', 'overall', ',', 'wikipedia', 'comprises', 'more', 'than', '40', 'million', 'articles', 'in', '301', 'different', 'languages', 'and', 'had', '18', 'billion', 'page', 'views', 'and', 'nearly', '500', 'million', 'unique', 'visitors', 'each', 'month', 'as', 'of', 'february', '2014.', 'in', '2005', ',', 'nature', 'published', 'a', 'peer', 'review', 'comparing', '42', 'science', 'articles', 'from', 'encyclopædia', 'britannica', 'and', 'wikipedia', 'and', 'found', 'that', 'wikipedia', \"'s\", 'level', 'of', 'accuracy', 'approached', 'that', 'of', 'encyclopædia', 'britannica', '.', 'time', 'magazine', 'stated', 'that', 'the', 'open-door', 'policy', 'of', 'allowing', 'anyone', 'to', 'edit', 'had', 'made', 'wikipedia', 'the', 'biggest', 'and', 'possibly', 'the', 'best', 'encyclopedia', 'in', 'the', 'world', 'and', 'it', 'was', 'testament', 'to', 'the', 'vision', 'of', 'jimmy', 'wales', '.', 'wikipedia', 'has', 'been', 'criticized', 'for', 'exhibiting', 'systemic', 'bias', ',', 'for', 'presenting', 'a', 'mixture', 'of', '``', 'truths', ',', 'half', 'truths', ',', 'and', 'some', 'falsehoods', \"''\", ',', 'and', 'for', 'being', 'subject', 'to', 'manipulation', 'and', 'spin', 'in', 'controversial', 'topics', '.', 'in', '2017', ',', 'facebook', 'announced', 'that', 'it', 'would', 'help', 'readers', 'detect', 'fake', 'news', 'by', 'suitable', 'links', 'to', 'wikipedia', 'articles', '.', 'youtube', 'announced', 'a', 'similar', 'plan', 'in', '2018.', 'in', 'response', ',', 'the', 'washington', 'post', 'headlined', ',', '``', 'wikipedia', ',', 'the', '‘', 'good', 'cop', '’', 'of', 'the', 'internet', \"''\", '.']\n"
     ]
    }
   ],
   "source": [
    "tokenized_list = word_tokenize(converted_text)\n",
    "print(tokenized_list)"
   ]
  },
  {
   "cell_type": "code",
   "execution_count": 5,
   "id": "c00dd95d",
   "metadata": {},
   "outputs": [
    {
     "name": "stdout",
     "output_type": "stream",
     "text": [
      "311\n",
      "171\n"
     ]
    }
   ],
   "source": [
    "print(len(tokenized_list))\n",
    "print(len(set(tokenized_list))) #1"
   ]
  },
  {
   "cell_type": "code",
   "execution_count": 6,
   "id": "112716ec",
   "metadata": {
    "collapsed": true
   },
   "outputs": [
    {
     "name": "stdout",
     "output_type": "stream",
     "text": [
      "['wikipedia', 'is', 'a', 'multilingual', ',', 'web', '-', 'based', ',', 'free', 'encyclopedia', 'based', 'on', 'a', 'model', 'of', 'openly', 'editable', 'content', '.', 'it', 'is', 'the', 'largest', 'and', 'most', 'popular', 'general', 'reference', 'work', 'on', 'the', 'internet', ',', 'and', 'is', 'one', 'of', 'the', 'most', 'popular', 'websites', 'by', 'alexa', 'rank', '.', 'it', 'is', 'owned', 'and', 'supported', 'by', 'the', 'wikimedia', 'foundation', ',', 'a', 'non', '-', 'profit', 'organization', 'which', 'operates', 'on', 'money', 'it', 'receives', 'from', 'donors', '.', 'wikipedia', 'was', 'launched', 'on', 'january', '15', ',', '2001', ',', 'by', 'jimmy', 'wales', 'and', 'larry', 'sanger', '.', 'sanger', 'coined', 'its', 'name', ',', 'as', 'a', 'portmanteau', 'of', 'wiki', 'and', '\"', 'encyclopedia', '\".', 'initially', 'an', 'english', '-', 'language', 'encyclopedia', ',', 'versions', 'in', 'other', 'languages', 'were', 'quickly', 'developed', '.', 'with', '5', ',', '721', ',', '582', 'articles', ',', 'the', 'english', 'wikipedia', 'is', 'the', 'largest', 'of', 'the', 'more', 'than', '290', 'wikipedia', 'encyclopedias', '.', 'overall', ',', 'wikipedia', 'comprises', 'more', 'than', '40', 'million', 'articles', 'in', '301', 'different', 'languages', 'and', 'had', '18', 'billion', 'page', 'views', 'and', 'nearly', '500', 'million', 'unique', 'visitors', 'each', 'month', 'as', 'of', 'february', '2014', '.', 'in', '2005', ',', 'nature', 'published', 'a', 'peer', 'review', 'comparing', '42', 'science', 'articles', 'from', 'encyclopædia', 'britannica', 'and', 'wikipedia', 'and', 'found', 'that', 'wikipedia', \"'\", 's', 'level', 'of', 'accuracy', 'approached', 'that', 'of', 'encyclopædia', 'britannica', '.', 'time', 'magazine', 'stated', 'that', 'the', 'open', '-', 'door', 'policy', 'of', 'allowing', 'anyone', 'to', 'edit', 'had', 'made', 'wikipedia', 'the', 'biggest', 'and', 'possibly', 'the', 'best', 'encyclopedia', 'in', 'the', 'world', 'and', 'it', 'was', 'testament', 'to', 'the', 'vision', 'of', 'jimmy', 'wales', '.', 'wikipedia', 'has', 'been', 'criticized', 'for', 'exhibiting', 'systemic', 'bias', ',', 'for', 'presenting', 'a', 'mixture', 'of', '\"', 'truths', ',', 'half', 'truths', ',', 'and', 'some', 'falsehoods', '\",', 'and', 'for', 'being', 'subject', 'to', 'manipulation', 'and', 'spin', 'in', 'controversial', 'topics', '.', 'in', '2017', ',', 'facebook', 'announced', 'that', 'it', 'would', 'help', 'readers', 'detect', 'fake', 'news', 'by', 'suitable', 'links', 'to', 'wikipedia', 'articles', '.', 'youtube', 'announced', 'a', 'similar', 'plan', 'in', '2018', '.', 'in', 'response', ',', 'the', 'washington', 'post', 'headlined', ',', '\"', 'wikipedia', ',', 'the', '‘', 'good', 'cop', '’', 'of', 'the', 'internet', '\".']\n"
     ]
    }
   ],
   "source": [
    "punct_tokenized_list = wordpunct_tokenize(converted_text)\n",
    "print(punct_tokenized_list)"
   ]
  },
  {
   "cell_type": "code",
   "execution_count": 7,
   "id": "0da14541",
   "metadata": {},
   "outputs": [
    {
     "data": {
      "text/plain": [
       "'!\"#$%&\\'()*+,-./:;<=>?@[\\\\]^_`{|}~'"
      ]
     },
     "execution_count": 7,
     "metadata": {},
     "output_type": "execute_result"
    }
   ],
   "source": [
    "punctuation"
   ]
  },
  {
   "cell_type": "code",
   "execution_count": 8,
   "id": "beed0c44",
   "metadata": {},
   "outputs": [
    {
     "name": "stdout",
     "output_type": "stream",
     "text": [
      "40\n"
     ]
    }
   ],
   "source": [
    "punct_count = 0\n",
    "for i in punct_tokenized_list:\n",
    "    if i in punctuation:\n",
    "        punct_count+=1\n",
    "print(punct_count)     #2   "
   ]
  },
  {
   "cell_type": "code",
   "execution_count": 9,
   "id": "e162398f",
   "metadata": {
    "collapsed": true
   },
   "outputs": [
    {
     "name": "stdout",
     "output_type": "stream",
     "text": [
      "[('wikipedia', 'NN'), ('is', 'VBZ'), ('a', 'DT'), ('multilingual', 'JJ'), (',', ','), ('web', 'SYM'), ('-', ':'), ('based', 'VBN'), (',', ','), ('free', 'JJ'), ('encyclopedia', 'NN'), ('based', 'VBN'), ('on', 'IN'), ('a', 'DT'), ('model', 'NN'), ('of', 'IN'), ('openly', 'RB'), ('editable', 'JJ'), ('content', 'NN'), ('.', '.'), ('it', 'PRP'), ('is', 'VBZ'), ('the', 'DT'), ('largest', 'JJS'), ('and', 'CC'), ('most', 'RBS'), ('popular', 'JJ'), ('general', 'JJ'), ('reference', 'NN'), ('work', 'NN'), ('on', 'IN'), ('the', 'DT'), ('internet', 'NN'), (',', ','), ('and', 'CC'), ('is', 'VBZ'), ('one', 'CD'), ('of', 'IN'), ('the', 'DT'), ('most', 'RBS'), ('popular', 'JJ'), ('websites', 'NNS'), ('by', 'IN'), ('alexa', 'JJ'), ('rank', 'NN'), ('.', '.'), ('it', 'PRP'), ('is', 'VBZ'), ('owned', 'VBN'), ('and', 'CC'), ('supported', 'VBN'), ('by', 'IN'), ('the', 'DT'), ('wikimedia', 'NN'), ('foundation', 'NN'), (',', ','), ('a', 'DT'), ('non', 'JJ'), ('-', ':'), ('profit', 'NN'), ('organization', 'NN'), ('which', 'WDT'), ('operates', 'VBZ'), ('on', 'IN'), ('money', 'NN'), ('it', 'PRP'), ('receives', 'VBZ'), ('from', 'IN'), ('donors', 'NNS'), ('.', '.'), ('wikipedia', 'NN'), ('was', 'VBD'), ('launched', 'VBN'), ('on', 'IN'), ('january', 'JJ'), ('15', 'CD'), (',', ','), ('2001', 'CD'), (',', ','), ('by', 'IN'), ('jimmy', 'NN'), ('wales', 'NNS'), ('and', 'CC'), ('larry', 'JJ'), ('sanger', 'NN'), ('.', '.'), ('sanger', 'NN'), ('coined', 'VBD'), ('its', 'PRP$'), ('name', 'NN'), (',', ','), ('as', 'IN'), ('a', 'DT'), ('portmanteau', 'NN'), ('of', 'IN'), ('wiki', 'NN'), ('and', 'CC'), ('\"', 'JJ'), ('encyclopedia', 'NN'), ('\".', 'NNP'), ('initially', 'RB'), ('an', 'DT'), ('english', 'JJ'), ('-', ':'), ('language', 'NN'), ('encyclopedia', 'NN'), (',', ','), ('versions', 'NNS'), ('in', 'IN'), ('other', 'JJ'), ('languages', 'NNS'), ('were', 'VBD'), ('quickly', 'RB'), ('developed', 'VBN'), ('.', '.'), ('with', 'IN'), ('5', 'CD'), (',', ','), ('721', 'CD'), (',', ','), ('582', 'CD'), ('articles', 'NNS'), (',', ','), ('the', 'DT'), ('english', 'JJ'), ('wikipedia', 'NN'), ('is', 'VBZ'), ('the', 'DT'), ('largest', 'JJS'), ('of', 'IN'), ('the', 'DT'), ('more', 'JJR'), ('than', 'IN'), ('290', 'CD'), ('wikipedia', 'JJ'), ('encyclopedias', 'NN'), ('.', '.'), ('overall', 'JJ'), (',', ','), ('wikipedia', 'JJ'), ('comprises', 'VBZ'), ('more', 'JJR'), ('than', 'IN'), ('40', 'CD'), ('million', 'CD'), ('articles', 'NNS'), ('in', 'IN'), ('301', 'CD'), ('different', 'JJ'), ('languages', 'NNS'), ('and', 'CC'), ('had', 'VBD'), ('18', 'CD'), ('billion', 'CD'), ('page', 'NN'), ('views', 'NNS'), ('and', 'CC'), ('nearly', 'RB'), ('500', 'CD'), ('million', 'CD'), ('unique', 'JJ'), ('visitors', 'NNS'), ('each', 'DT'), ('month', 'NN'), ('as', 'IN'), ('of', 'IN'), ('february', 'JJ'), ('2014', 'CD'), ('.', '.'), ('in', 'IN'), ('2005', 'CD'), (',', ','), ('nature', 'NN'), ('published', 'VBD'), ('a', 'DT'), ('peer', 'NN'), ('review', 'NN'), ('comparing', 'VBG'), ('42', 'CD'), ('science', 'NN'), ('articles', 'NNS'), ('from', 'IN'), ('encyclopædia', 'NN'), ('britannica', 'NN'), ('and', 'CC'), ('wikipedia', 'NN'), ('and', 'CC'), ('found', 'VBD'), ('that', 'IN'), ('wikipedia', 'NN'), (\"'\", \"''\"), ('s', 'JJ'), ('level', 'NN'), ('of', 'IN'), ('accuracy', 'NN'), ('approached', 'VBD'), ('that', 'IN'), ('of', 'IN'), ('encyclopædia', 'NN'), ('britannica', 'NN'), ('.', '.'), ('time', 'NN'), ('magazine', 'NN'), ('stated', 'VBN'), ('that', 'IN'), ('the', 'DT'), ('open', 'JJ'), ('-', ':'), ('door', 'NN'), ('policy', 'NN'), ('of', 'IN'), ('allowing', 'VBG'), ('anyone', 'NN'), ('to', 'TO'), ('edit', 'VB'), ('had', 'NNS'), ('made', 'VBN'), ('wikipedia', 'IN'), ('the', 'DT'), ('biggest', 'JJS'), ('and', 'CC'), ('possibly', 'RB'), ('the', 'DT'), ('best', 'JJS'), ('encyclopedia', 'NN'), ('in', 'IN'), ('the', 'DT'), ('world', 'NN'), ('and', 'CC'), ('it', 'PRP'), ('was', 'VBD'), ('testament', 'JJ'), ('to', 'TO'), ('the', 'DT'), ('vision', 'NN'), ('of', 'IN'), ('jimmy', 'NN'), ('wales', 'NNS'), ('.', '.'), ('wikipedia', 'NN'), ('has', 'VBZ'), ('been', 'VBN'), ('criticized', 'VBN'), ('for', 'IN'), ('exhibiting', 'VBG'), ('systemic', 'JJ'), ('bias', 'NN'), (',', ','), ('for', 'IN'), ('presenting', 'VBG'), ('a', 'DT'), ('mixture', 'NN'), ('of', 'IN'), ('\"', 'NNP'), ('truths', 'NNS'), (',', ','), ('half', 'JJ'), ('truths', 'NNS'), (',', ','), ('and', 'CC'), ('some', 'DT'), ('falsehoods', 'NNS'), ('\",', 'VBP'), ('and', 'CC'), ('for', 'IN'), ('being', 'VBG'), ('subject', 'JJ'), ('to', 'TO'), ('manipulation', 'NN'), ('and', 'CC'), ('spin', 'NN'), ('in', 'IN'), ('controversial', 'JJ'), ('topics', 'NNS'), ('.', '.'), ('in', 'IN'), ('2017', 'CD'), (',', ','), ('facebook', 'NN'), ('announced', 'VBD'), ('that', 'IN'), ('it', 'PRP'), ('would', 'MD'), ('help', 'VB'), ('readers', 'NNS'), ('detect', 'VB'), ('fake', 'JJ'), ('news', 'NN'), ('by', 'IN'), ('suitable', 'JJ'), ('links', 'NNS'), ('to', 'TO'), ('wikipedia', 'VB'), ('articles', 'NNS'), ('.', '.'), ('youtube', 'NN'), ('announced', 'VBD'), ('a', 'DT'), ('similar', 'JJ'), ('plan', 'NN'), ('in', 'IN'), ('2018', 'CD'), ('.', '.'), ('in', 'IN'), ('response', 'NN'), (',', ','), ('the', 'DT'), ('washington', 'NN'), ('post', 'NN'), ('headlined', 'VBN'), (',', ','), ('\"', 'JJ'), ('wikipedia', 'NN'), (',', ','), ('the', 'DT'), ('‘', 'NNP'), ('good', 'JJ'), ('cop', 'NN'), ('’', 'NN'), ('of', 'IN'), ('the', 'DT'), ('internet', 'NN'), ('\".', 'NN')]\n"
     ]
    }
   ],
   "source": [
    "from nltk import pos_tag\n",
    "#parts of speech tagging\n",
    "pos_tag_list = pos_tag(punct_tokenized_list)\n",
    "print(pos_tag_list)"
   ]
  },
  {
   "cell_type": "code",
   "execution_count": 10,
   "id": "0cdb1702",
   "metadata": {},
   "outputs": [
    {
     "name": "stdout",
     "output_type": "stream",
     "text": [
      "Counter({'NN': 65, 'IN': 42, 'JJ': 32, 'DT': 25, ',': 20, 'NNS': 20, 'CD': 19, 'CC': 14, '.': 12, 'VBN': 11, 'VBD': 10, 'VBZ': 9, 'RB': 5, 'PRP': 5, 'VBG': 5, ':': 4, 'JJS': 4, 'TO': 4, 'VB': 4, 'NNP': 3, 'RBS': 2, 'JJR': 2, 'SYM': 1, 'WDT': 1, 'PRP$': 1, \"''\": 1, 'VBP': 1, 'MD': 1})\n"
     ]
    }
   ],
   "source": [
    "from collections import Counter\n",
    "counts = Counter( tag for word,  tag in pos_tag_list)\n",
    "print(counts)"
   ]
  },
  {
   "cell_type": "code",
   "execution_count": 11,
   "id": "1745d16e",
   "metadata": {
    "collapsed": true
   },
   "outputs": [
    {
     "data": {
      "text/plain": [
       "collections.Counter"
      ]
     },
     "execution_count": 11,
     "metadata": {},
     "output_type": "execute_result"
    }
   ],
   "source": [
    "#type(counts)"
   ]
  },
  {
   "cell_type": "code",
   "execution_count": 12,
   "id": "cb503b7b",
   "metadata": {},
   "outputs": [
    {
     "data": {
      "text/plain": [
       "<BarContainer object of 28 artists>"
      ]
     },
     "execution_count": 12,
     "metadata": {},
     "output_type": "execute_result"
    },
    {
     "data": {
      "image/png": "[encoded data removed]",
      "text/plain": [
       "<Figure size 1440x360 with 1 Axes>"
      ]
     },
     "metadata": {
      "needs_background": "light"
     },
     "output_type": "display_data"
    }
   ],
   "source": [
    "import matplotlib.pyplot as plt\n",
    "plt.rcParams['figure.figsize']=(20,5)\n",
    "plt.bar(counts.keys(), counts.values()) #3"
   ]
  },
  {
   "cell_type": "code",
   "execution_count": 16,
   "id": "8e9037bc",
   "metadata": {
    "collapsed": true
   },
   "outputs": [
    {
     "name": "stdout",
     "output_type": "stream",
     "text": [
      "{'headlined', 'vision', 'encyclopedia', 'world', 'anyone', 'controversial', 'different', 'published', 'wikipedia', 'content', 'january', 'portmanteau', \"''\", 'detect', 'edit', 'one', 'initially', 'accuracy', 'owned', 'criticized', '‘', 'wikimedia', 'billion', 'jimmy', 'response', 'found', 'testament', 'exhibiting', 'money', 'quickly', 'popular', '18', 'internet', 'help', 'overall', 'february', '42', '500', 'stated', 'manipulation', 'general', 'views', '5,721,582', 'plan', 'time', 'open-door', '2017', '301', '2005', 'made', 'policy', 'name', '2014.', 'washington', 'magazine', 'openly', '40', 'multilingual', 'bias', '290', '.', 'languages', 'approached', 'fake', 'reference', '2001', 'free', 'encyclopedias', 'based', 'page', 'half', 'editable', 'operates', 'would', 'spin', 'english-language', 'level', 'alexa', 'english', '``', 'versions', '’', 'news', 'youtube', 'articles', '2018.', 'supported', 'foundation', 'work', 'systemic', 'launched', 'receives', 'possibly', 'similar', 'million', 'announced', \"'s\", 'developed', 'review', 'largest', 'rank', 'science', 'wiki', 'peer', 'donors', 'encyclopædia', 'organization', 'wales', 'britannica', 'topics', 'good', 'coined', 'web-based', 'best', 'cop', 'biggest', 'subject', ',', 'presenting', 'sanger', 'larry', '15', 'links', 'model', 'websites', 'readers', 'nature', 'unique', 'mixture', 'suitable', 'post', 'month', 'comprises', 'visitors', 'falsehoods', 'allowing', 'facebook', 'comparing', 'non-profit', 'truths', 'nearly'}\n",
      "141\n"
     ]
    }
   ],
   "source": [
    "#cleaning and then redoing the above steps\n",
    "vocab_set = set(tokenized_list)\n",
    "#remove stop words\n",
    "set_wo_stopwords = vocab_set - set(stopwords.words(\"english\"))\n",
    "print(set_wo_stopwords)\n",
    "print(len(set_wo_stopwords))"
   ]
  },
  {
   "cell_type": "code",
   "execution_count": 17,
   "id": "787b70e9",
   "metadata": {
    "collapsed": true
   },
   "outputs": [
    {
     "name": "stdout",
     "output_type": "stream",
     "text": [
      "{'headlined', 'vision', 'encyclopedia', 'world', 'anyone', 'controversial', 'different', 'published', 'wikipedia', 'content', 'january', 'portmanteau', \"''\", 'detect', 'edit', 'one', 'initially', 'accuracy', 'owned', 'criticized', '‘', 'wikimedia', 'billion', 'jimmy', 'response', 'found', 'testament', 'exhibiting', 'money', 'quickly', 'popular', '18', 'internet', 'help', 'overall', 'february', '42', '500', 'stated', 'manipulation', 'general', 'views', '5,721,582', 'plan', 'time', 'open-door', '2017', '301', '2005', 'made', 'policy', 'name', '2014.', 'washington', 'magazine', 'openly', '40', 'multilingual', 'bias', '290', 'languages', 'approached', 'fake', 'reference', '2001', 'free', 'encyclopedias', 'based', 'page', 'half', 'editable', 'operates', 'would', 'spin', 'english-language', 'level', 'alexa', 'english', '``', 'versions', '’', 'news', 'youtube', 'articles', '2018.', 'supported', 'foundation', 'work', 'systemic', 'launched', 'receives', 'possibly', 'similar', 'million', 'announced', \"'s\", 'developed', 'review', 'largest', 'rank', 'science', 'wiki', 'peer', 'donors', 'encyclopædia', 'organization', 'wales', 'britannica', 'topics', 'good', 'coined', 'web-based', 'best', 'cop', 'biggest', 'subject', 'presenting', 'sanger', 'larry', '15', 'links', 'model', 'websites', 'readers', 'nature', 'unique', 'mixture', 'suitable', 'post', 'month', 'comprises', 'visitors', 'falsehoods', 'allowing', 'facebook', 'comparing', 'non-profit', 'truths', 'nearly'}\n",
      "139\n"
     ]
    }
   ],
   "source": [
    "#remove punctuation\n",
    "set_wo_punctuation = set_wo_stopwords - set(punctuation)\n",
    "print(set_wo_punctuation)\n",
    "print(len(set_wo_punctuation))"
   ]
  },
  {
   "cell_type": "code",
   "execution_count": 18,
   "id": "ef21dce7",
   "metadata": {
    "collapsed": true
   },
   "outputs": [
    {
     "name": "stdout",
     "output_type": "stream",
     "text": [
      "['headlin', 'vision', 'encyclopedia', 'world', 'anyon', 'controversi', 'differ', 'publish', 'wikipedia', 'content', 'januari', 'portmanteau', \"''\", 'detect', 'edit', 'one', 'initi', 'accuraci', 'own', 'critic', '‘', 'wikimedia', 'billion', 'jimmi', 'respons', 'found', 'testament', 'exhibit', 'money', 'quick', 'popular', '18', 'internet', 'help', 'overal', 'februari', '42', '500', 'state', 'manipul', 'general', 'view', '5,721,582', 'plan', 'time', 'open-door', '2017', '301', '2005', 'made', 'polici', 'name', '2014.', 'washington', 'magazin', 'open', '40', 'multilingu', 'bias', '290', 'languag', 'approach', 'fake', 'refer', '2001', 'free', 'encyclopedia', 'base', 'page', 'half', 'edit', 'oper', 'would', 'spin', 'english-languag', 'level', 'alexa', 'english', '``', 'version', '’', 'news', 'youtub', 'articl', '2018.', 'support', 'foundat', 'work', 'system', 'launch', 'receiv', 'possibl', 'similar', 'million', 'announc', \"'s\", 'develop', 'review', 'largest', 'rank', 'scienc', 'wiki', 'peer', 'donor', 'encyclopædia', 'organ', 'wale', 'britannica', 'topic', 'good', 'coin', 'web-bas', 'best', 'cop', 'biggest', 'subject', 'present', 'sanger', 'larri', '15', 'link', 'model', 'websit', 'reader', 'natur', 'uniqu', 'mixtur', 'suitabl', 'post', 'month', 'compris', 'visitor', 'falsehood', 'allow', 'facebook', 'compar', 'non-profit', 'truth', 'near']\n"
     ]
    }
   ],
   "source": [
    "#stemming\n",
    "stemmed_list= []\n",
    "stemObj = SnowballStemmer(\"english\")\n",
    "for i in set_wo_punctuation:\n",
    "    stemmed_list.append(stemObj.stem(i))\n",
    "print(stemmed_list)"
   ]
  },
  {
   "cell_type": "code",
   "execution_count": 19,
   "id": "a51cd206",
   "metadata": {
    "collapsed": true
   },
   "outputs": [
    {
     "name": "stdout",
     "output_type": "stream",
     "text": [
      "[('headlined', 'VBN'), ('vision', 'NN'), ('encyclopedia', 'NN'), ('world', 'NN'), ('anyone', 'NN'), ('controversial', 'JJ'), ('different', 'JJ'), ('published', 'VBN'), ('wikipedia', 'NN'), ('content', 'NN'), ('january', 'JJ'), ('portmanteau', 'NN'), (\"''\", \"''\"), ('detect', 'NN'), ('edit', 'VBD'), ('one', 'CD'), ('initially', 'RB'), ('accuracy', 'NN'), ('owned', 'VBD'), ('criticized', 'VBN'), ('‘', 'JJ'), ('wikimedia', 'JJ'), ('billion', 'CD'), ('jimmy', 'NN'), ('response', 'NN'), ('found', 'VBD'), ('testament', 'JJ'), ('exhibiting', 'VBG'), ('money', 'NN'), ('quickly', 'RB'), ('popular', 'JJ'), ('18', 'CD'), ('internet', 'NN'), ('help', 'NN'), ('overall', 'JJ'), ('february', 'JJ'), ('42', 'CD'), ('500', 'CD'), ('stated', 'VBN'), ('manipulation', 'NN'), ('general', 'JJ'), ('views', 'NNS'), ('5,721,582', 'CD'), ('plan', 'NN'), ('time', 'NN'), ('open-door', 'JJ'), ('2017', 'CD'), ('301', 'CD'), ('2005', 'CD'), ('made', 'NN'), ('policy', 'NN'), ('name', 'NN'), ('2014.', 'CD'), ('washington', 'NN'), ('magazine', 'NN'), ('openly', 'RB'), ('40', 'CD'), ('multilingual', 'JJ'), ('bias', 'NN'), ('290', 'CD'), ('languages', 'NNS'), ('approached', 'VBN'), ('fake', 'VBP'), ('reference', 'NN'), ('2001', 'CD'), ('free', 'JJ'), ('encyclopedias', 'NNS'), ('based', 'VBN'), ('page', 'NN'), ('half', 'NN'), ('editable', 'JJ'), ('operates', 'NNS'), ('would', 'MD'), ('spin', 'VB'), ('english-language', 'JJ'), ('level', 'NN'), ('alexa', 'IN'), ('english', 'JJ'), ('``', '``'), ('versions', 'NNS'), ('’', 'VBP'), ('news', 'NN'), ('youtube', 'NN'), ('articles', 'VBZ'), ('2018.', 'CD'), ('supported', 'JJ'), ('foundation', 'NN'), ('work', 'NN'), ('systemic', 'RB'), ('launched', 'VBD'), ('receives', 'NNS'), ('possibly', 'RB'), ('similar', 'JJ'), ('million', 'CD'), ('announced', 'VBD'), (\"'s\", 'POS'), ('developed', 'JJ'), ('review', 'NN'), ('largest', 'JJS'), ('rank', 'NN'), ('science', 'NN'), ('wiki', 'NN'), ('peer', 'NN'), ('donors', 'NNS'), ('encyclopædia', 'VBP'), ('organization', 'NN'), ('wales', 'NNS'), ('britannica', 'IN'), ('topics', 'NNS'), ('good', 'JJ'), ('coined', 'VBD'), ('web-based', 'JJ'), ('best', 'JJS'), ('cop', 'NN'), ('biggest', 'JJS'), ('subject', 'JJ'), ('presenting', 'VBG'), ('sanger', 'NN'), ('larry', 'VBP'), ('15', 'CD'), ('links', 'NNS'), ('model', 'NN'), ('websites', 'VBZ'), ('readers', 'NNS'), ('nature', 'JJ'), ('unique', 'JJ'), ('mixture', 'NN'), ('suitable', 'JJ'), ('post', 'NN'), ('month', 'NN'), ('comprises', 'VBZ'), ('visitors', 'NNS'), ('falsehoods', 'NNS'), ('allowing', 'VBG'), ('facebook', 'NN'), ('comparing', 'VBG'), ('non-profit', 'JJ'), ('truths', 'NNS'), ('nearly', 'RB')]\n",
      "['headline', 'vision', 'encyclopedia', 'world', 'anyone', 'controversial', 'different', 'publish', 'wikipedia', 'content', 'january', 'portmanteau', \"''\", 'detect', 'edit', 'one', 'initially', 'accuracy', 'own', 'criticize', '‘', 'wikimedia', 'billion', 'jimmy', 'response', 'find', 'testament', 'exhibit', 'money', 'quickly', 'popular', '18', 'internet', 'help', 'overall', 'february', '42', '500', 'state', 'manipulation', 'general', 'view', '5,721,582', 'plan', 'time', 'open-door', '2017', '301', '2005', 'made', 'policy', 'name', '2014.', 'washington', 'magazine', 'openly', '40', 'multilingual', 'bias', '290', 'language', 'approach', 'fake', 'reference', '2001', 'free', 'encyclopedia', 'base', 'page', 'half', 'editable', 'operates', 'would', 'spin', 'english-language', 'level', 'alexa', 'english', '``', 'version', '’', 'news', 'youtube', 'article', '2018.', 'supported', 'foundation', 'work', 'systemic', 'launch', 'receives', 'possibly', 'similar', 'million', 'announce', \"'s\", 'developed', 'review', 'large', 'rank', 'science', 'wiki', 'peer', 'donor', 'encyclopædia', 'organization', 'wale', 'britannica', 'topic', 'good', 'coin', 'web-based', 'best', 'cop', 'big', 'subject', 'present', 'sanger', 'larry', '15', 'link', 'model', 'websites', 'reader', 'nature', 'unique', 'mixture', 'suitable', 'post', 'month', 'comprise', 'visitor', 'falsehood', 'allow', 'facebook', 'compare', 'non-profit', 'truth', 'nearly']\n"
     ]
    }
   ],
   "source": [
    "from nltk.corpus import wordnet\n",
    "from nltk import pos_tag\n",
    "#parts of speech tagging\n",
    "pos_tag_list = pos_tag(set_wo_punctuation)\n",
    "print(pos_tag_list)\n",
    "#for getting parts of speech\n",
    "def parts_of_speech(pos):\n",
    "    if pos.startswith(\"N\"):\n",
    "        return wordnet.NOUN\n",
    "    elif pos.startswith(\"J\"):\n",
    "        return wordnet.ADJ\n",
    "    elif pos.startswith(\"V\"):\n",
    "        return wordnet.VERB\n",
    "    elif pos.startswith(\"R\"):\n",
    "        return wordnet.ADV\n",
    "    elif pos.startswith(\"S\"):\n",
    "        return wordnet.ADJ_SAT\n",
    "    else:\n",
    "        return ''\n",
    "#lemmatization\n",
    "lemma_list = []\n",
    "lemmaObj = WordNetLemmatizer()\n",
    "for word,pos in pos_tag_list:\n",
    "    get_pos = parts_of_speech(pos)\n",
    "    if get_pos != '':\n",
    "        lemma_list.append(lemmaObj.lemmatize(word, pos = get_pos))\n",
    "    else:\n",
    "        lemma_list.append(word)\n",
    "print(lemma_list)"
   ]
  },
  {
   "cell_type": "code",
   "execution_count": 20,
   "id": "25f9b223",
   "metadata": {},
   "outputs": [
    {
     "name": "stdout",
     "output_type": "stream",
     "text": [
      "Counter({'NN': 44, 'JJ': 26, 'CD': 16, 'NNS': 14, 'VBN': 6, 'VBD': 6, 'RB': 6, 'VBG': 4, 'VBP': 4, 'VBZ': 3, 'JJS': 3, 'IN': 2, \"''\": 1, 'MD': 1, 'VB': 1, '``': 1, 'POS': 1})\n"
     ]
    }
   ],
   "source": [
    "counts2 = Counter( tag for word,  tag in pos_tag_list)\n",
    "print(counts2)"
   ]
  },
  {
   "cell_type": "code",
   "execution_count": 21,
   "id": "6b2ec14b",
   "metadata": {},
   "outputs": [
    {
     "data": {
      "text/plain": [
       "<BarContainer object of 17 artists>"
      ]
     },
     "execution_count": 21,
     "metadata": {},
     "output_type": "execute_result"
    },
    {
     "data": {
      "image/png": "[encoded data removed]",
      "text/plain": [
       "<Figure size 1440x360 with 1 Axes>"
      ]
     },
     "metadata": {
      "needs_background": "light"
     },
     "output_type": "display_data"
    }
   ],
   "source": [
    "#plt.rcParams['figure.figsize']=(20,5)\n",
    "plt.bar(counts2.keys(), counts2.values()) #3"
   ]
  },
  {
   "cell_type": "code",
   "execution_count": 23,
   "id": "f3f69d16",
   "metadata": {},
   "outputs": [
    {
     "name": "stdout",
     "output_type": "stream",
     "text": [
      "138\n"
     ]
    }
   ],
   "source": [
    "print(len(set(lemma_list))) #4"
   ]
  },
  {
   "cell_type": "code",
   "execution_count": 24,
   "id": "1680b80f",
   "metadata": {},
   "outputs": [
    {
     "name": "stdout",
     "output_type": "stream",
     "text": [
      "{'the', 'was', 'to', 'its', 'by', 'has', 'most', 'of', 'been', 'being', 'an', 'from', 'some', 'which', 'in', 'more', 'is', 'as', 'were', 'had', 'other', 'that', 'a', 'each', 'it', 'with', 'than', 'and', 'on', 'for'}\n"
     ]
    }
   ],
   "source": [
    "stopwords_set = vocab_set - set_wo_stopwords\n",
    "print(stopwords_set)"
   ]
  },
  {
   "cell_type": "code",
   "execution_count": 27,
   "id": "6b1119f0",
   "metadata": {},
   "outputs": [
    {
     "name": "stdout",
     "output_type": "stream",
     "text": [
      "[15, 2, 4, 1, 4, 1, 2, 11, 1, 1, 1, 2, 1, 1, 8, 2, 5, 2, 1, 2, 1, 4, 7, 1, 5, 1, 2, 14, 4, 3]\n"
     ]
    }
   ],
   "source": [
    "stopword_freq = []\n",
    "for i in stopwords_set:\n",
    "    stopword_freq.append(tokenized_list.count(i))\n",
    "print(stopword_freq)    #5 count of stopwords in text"
   ]
  },
  {
   "cell_type": "code",
   "execution_count": 31,
   "id": "f75fd5cd",
   "metadata": {},
   "outputs": [
    {
     "data": {
      "text/plain": [
       "<BarContainer object of 30 artists>"
      ]
     },
     "execution_count": 31,
     "metadata": {},
     "output_type": "execute_result"
    },
    {
     "data": {
      "image/png": "[encoded data removed]",
      "text/plain": [
       "<Figure size 1440x360 with 1 Axes>"
      ]
     },
     "metadata": {
      "needs_background": "light"
     },
     "output_type": "display_data"
    }
   ],
   "source": [
    "plt.bar(list(stopwords_set),stopword_freq)"
   ]
  }
 ],
 "metadata": {
  "kernelspec": {
   "display_name": "Python 3",
   "language": "python",
   "name": "python3"
  },
  "language_info": {
   "codemirror_mode": {
    "name": "ipython",
    "version": 3
   },
   "file_extension": ".py",
   "mimetype": "text/x-python",
   "name": "python",
   "nbconvert_exporter": "python",
   "pygments_lexer": "ipython3",
   "version": "3.8.8"
  }
 },
 "nbformat": 4,
 "nbformat_minor": 5
}
